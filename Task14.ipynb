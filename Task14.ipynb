{
 "cells": [
  {
   "cell_type": "code",
   "execution_count": 2,
   "id": "bdf7dbcf-43fd-49e5-9ca4-e22d25ab448b",
   "metadata": {},
   "outputs": [
    {
     "name": "stdout",
     "output_type": "stream",
     "text": [
      "<class 'pandas.core.frame.DataFrame'>\n",
      "RangeIndex: 891 entries, 0 to 890\n",
      "Data columns (total 12 columns):\n",
      " #   Column       Non-Null Count  Dtype  \n",
      "---  ------       --------------  -----  \n",
      " 0   PassengerId  891 non-null    int64  \n",
      " 1   Survived     891 non-null    int64  \n",
      " 2   Pclass       891 non-null    int64  \n",
      " 3   Name         891 non-null    object \n",
      " 4   Sex          891 non-null    object \n",
      " 5   Age          714 non-null    float64\n",
      " 6   SibSp        891 non-null    int64  \n",
      " 7   Parch        891 non-null    int64  \n",
      " 8   Ticket       891 non-null    object \n",
      " 9   Fare         891 non-null    float64\n",
      " 10  Cabin        204 non-null    object \n",
      " 11  Embarked     889 non-null    object \n",
      "dtypes: float64(2), int64(5), object(5)\n",
      "memory usage: 83.7+ KB\n"
     ]
    }
   ],
   "source": [
    "#Q 1---\n",
    "import pandas as pd\n",
    "import numpy as np\n",
    "from sklearn.model_selection import train_test_split\n",
    "from sklearn.preprocessing import StandardScaler, OneHotEncoder\n",
    "from sklearn.linear_model import LogisticRegression\n",
    "from sklearn.metrics import precision_score, recall_score, f1_score\n",
    "\n",
    "from sklearn.compose import ColumnTransformer\n",
    "from sklearn.pipeline import Pipeline\n",
    "from sklearn.tree import DecisionTreeClassifier\n",
    "from sklearn.metrics import accuracy_score, roc_auc_score, confusion_matrix, roc_curve\n",
    "import matplotlib.pyplot as plt\n",
    "\n",
    "data = pd.read_csv('titanic.csv')\n",
    "data.info()"
   ]
  },
  {
   "cell_type": "code",
   "execution_count": 3,
   "id": "94e0500f-6e24-4a76-b360-be312b08c807",
   "metadata": {},
   "outputs": [
    {
     "name": "stdout",
     "output_type": "stream",
     "text": [
      "missing PassengerId      0\n",
      "Survived         0\n",
      "Pclass           0\n",
      "Name             0\n",
      "Sex              0\n",
      "Age            177\n",
      "SibSp            0\n",
      "Parch            0\n",
      "Ticket           0\n",
      "Fare             0\n",
      "Cabin          687\n",
      "Embarked         2\n",
      "dtype: int64\n"
     ]
    }
   ],
   "source": [
    "m= data.isnull().sum()\n",
    "print(\"missing\",m)"
   ]
  },
  {
   "cell_type": "code",
   "execution_count": 4,
   "id": "fea4c757-dcde-4b4e-a34d-1e820a9169f3",
   "metadata": {},
   "outputs": [],
   "source": [
    "c=['Embarked','Name','Ticket','Cabin' ]\n",
    "data.drop(columns=c, inplace=True)\n"
   ]
  },
  {
   "cell_type": "code",
   "execution_count": 5,
   "id": "bfd90761-9ee6-4e1c-9274-1ed051737ad1",
   "metadata": {},
   "outputs": [
    {
     "name": "stdout",
     "output_type": "stream",
     "text": [
      "<class 'pandas.core.frame.DataFrame'>\n",
      "RangeIndex: 891 entries, 0 to 890\n",
      "Data columns (total 8 columns):\n",
      " #   Column       Non-Null Count  Dtype  \n",
      "---  ------       --------------  -----  \n",
      " 0   PassengerId  891 non-null    int64  \n",
      " 1   Survived     891 non-null    int64  \n",
      " 2   Pclass       891 non-null    int64  \n",
      " 3   Sex          891 non-null    object \n",
      " 4   Age          714 non-null    float64\n",
      " 5   SibSp        891 non-null    int64  \n",
      " 6   Parch        891 non-null    int64  \n",
      " 7   Fare         891 non-null    float64\n",
      "dtypes: float64(2), int64(5), object(1)\n",
      "memory usage: 55.8+ KB\n"
     ]
    }
   ],
   "source": [
    "data.info()"
   ]
  },
  {
   "cell_type": "code",
   "execution_count": null,
   "id": "0dde3f3e-5bfd-40de-ab88-c37dc4c0ca34",
   "metadata": {},
   "outputs": [],
   "source": []
  },
  {
   "cell_type": "code",
   "execution_count": 12,
   "id": "170adb2e-567e-4460-a7dd-5170cdacf027",
   "metadata": {},
   "outputs": [],
   "source": [
    "encoder = OneHotEncoder(sparse_output=False)\n",
    "encoded_array = encoder.fit_transform(data[['Sex']])\n",
    "encoded_data = pd.DataFrame(encoded_array, columns=encoder.get_feature_names_out(['Sex']))\n",
    "data_encoded = pd.concat([data.drop(columns=['Sex']), encoded_data], axis=1)"
   ]
  },
  {
   "cell_type": "code",
   "execution_count": 18,
   "id": "042c9bb2-5d07-4626-9451-d0ada5087cec",
   "metadata": {},
   "outputs": [],
   "source": [
    "for column in data_encoded.columns:\n",
    "    if data_encoded[column].dtype == 'object':\n",
    "        mode_value = data_encoded[column].mean()\n",
    "        data_encoded[column] = data_encoded[column].fillna(mode_value)"
   ]
  },
  {
   "cell_type": "code",
   "execution_count": 21,
   "id": "2ce81891-c6f4-4ff6-86ff-29ba60982c00",
   "metadata": {},
   "outputs": [
    {
     "data": {
      "text/plain": [
       "<bound method DataFrame.info of      PassengerId  Survived  Pclass   Age  SibSp  Parch     Fare  Sex_female  \\\n",
       "0              1         0       3  22.0      1      0   7.2500         0.0   \n",
       "1              2         1       1  38.0      1      0  71.2833         1.0   \n",
       "2              3         1       3  26.0      0      0   7.9250         1.0   \n",
       "3              4         1       1  35.0      1      0  53.1000         1.0   \n",
       "4              5         0       3  35.0      0      0   8.0500         0.0   \n",
       "..           ...       ...     ...   ...    ...    ...      ...         ...   \n",
       "886          887         0       2  27.0      0      0  13.0000         0.0   \n",
       "887          888         1       1  19.0      0      0  30.0000         1.0   \n",
       "888          889         0       3   NaN      1      2  23.4500         1.0   \n",
       "889          890         1       1  26.0      0      0  30.0000         0.0   \n",
       "890          891         0       3  32.0      0      0   7.7500         0.0   \n",
       "\n",
       "     Sex_male  \n",
       "0         1.0  \n",
       "1         0.0  \n",
       "2         0.0  \n",
       "3         0.0  \n",
       "4         1.0  \n",
       "..        ...  \n",
       "886       1.0  \n",
       "887       0.0  \n",
       "888       0.0  \n",
       "889       1.0  \n",
       "890       1.0  \n",
       "\n",
       "[891 rows x 9 columns]>"
      ]
     },
     "execution_count": 21,
     "metadata": {},
     "output_type": "execute_result"
    }
   ],
   "source": [
    "data_encoded.info"
   ]
  },
  {
   "cell_type": "code",
   "execution_count": 26,
   "id": "695d2657-fc5c-4a32-85b5-f7e175fa0476",
   "metadata": {},
   "outputs": [
    {
     "name": "stdout",
     "output_type": "stream",
     "text": [
      "missing PassengerId    0\n",
      "Survived       0\n",
      "Pclass         0\n",
      "Age            0\n",
      "SibSp          0\n",
      "Parch          0\n",
      "Fare           0\n",
      "Sex_female     0\n",
      "Sex_male       0\n",
      "dtype: int64\n"
     ]
    }
   ],
   "source": [
    "mean_age = data_encoded['Age'].mean()\n",
    "\n",
    "# Fill missing values in the 'Age' column with the mean age\n",
    "data_encoded['Age'] = data_encoded['Age'].fillna(mean_age)\n",
    "\n",
    "m= data_encoded.isnull().sum()\n",
    "print(\"missing\",m)"
   ]
  },
  {
   "cell_type": "code",
   "execution_count": 28,
   "id": "a9e0a633-679c-4a2c-9f54-9b93e57113bf",
   "metadata": {},
   "outputs": [
    {
     "name": "stdout",
     "output_type": "stream",
     "text": [
      "Single Train-Test Split Evaluation:\n",
      "Accuracy: 0.7318435754189944\n",
      "\n",
      "k-Fold Cross-Validation Evaluation:\n",
      "Mean Accuracy: 0.6970309459544284\n",
      "Accuracy for each fold: [0.6424581  0.68539326 0.73033708 0.71910112 0.70786517]\n"
     ]
    }
   ],
   "source": [
    "from sklearn.model_selection import train_test_split, cross_val_score\n",
    "from sklearn.preprocessing import StandardScaler, OneHotEncoder\n",
    "from sklearn.compose import ColumnTransformer\n",
    "from sklearn.pipeline import Pipeline\n",
    "from sklearn.metrics import accuracy_score\n",
    "\n",
    "X = data_encoded.drop('Survived', axis=1)\n",
    "y = data_encoded['Survived']\n",
    "\n",
    "numerical_features = ['Pclass', 'Age', 'SibSp', 'Parch', 'Fare']\n",
    "categorical_features = ['Sex_female', 'Sex_male']\n",
    "\n",
    "# Define preprocessing steps\n",
    "preprocessor = ColumnTransformer(\n",
    "    transformers=[\n",
    "        ('num', StandardScaler(), numerical_features)\n",
    "       \n",
    "    ])\n",
    "\n",
    "# Create a pipeline with preprocessing and logistic regression\n",
    "pipeline = Pipeline(steps=[\n",
    "    ('preprocessor', preprocessor),\n",
    "    ('classifier', LogisticRegression())\n",
    "])\n",
    "\n",
    "X_train, X_test, y_train, y_test = train_test_split(X, y, test_size=0.2, random_state=42)\n",
    "pipeline.fit(X_train, y_train)\n",
    "y_pred = pipeline.predict(X_test)\n",
    "single_split_accuracy = accuracy_score(y_test, y_pred)\n",
    "k = 5\n",
    "cv_scores = cross_val_score(pipeline, X, y, cv=k, scoring='accuracy')\n",
    "\n",
    "# Evaluate the model\n",
    "print(\"Single Train-Test Split Evaluation:\")\n",
    "print(\"Accuracy:\", single_split_accuracy)\n",
    "\n",
    "print(\"\\nk-Fold Cross-Validation Evaluation:\")\n",
    "print(f\"Mean Accuracy: {cv_scores.mean()}\")\n",
    "print(f\"Accuracy for each fold: {cv_scores}\")"
   ]
  },
  {
   "cell_type": "code",
   "execution_count": 29,
   "id": "0c5083fe-de18-49a2-b0f3-774c26124258",
   "metadata": {},
   "outputs": [],
   "source": [
    "#Q  2"
   ]
  },
  {
   "cell_type": "code",
   "execution_count": 30,
   "id": "29ad4073-04b4-4915-aa63-8e9edff5b46c",
   "metadata": {},
   "outputs": [
    {
     "data": {
      "image/png": "[encoded data removed]",
      "text/plain": [
       "<Figure size 1000x600 with 1 Axes>"
      ]
     },
     "metadata": {},
     "output_type": "display_data"
    }
   ],
   "source": [
    "X = data_encoded.drop('Survived', axis=1)\n",
    "y = data_encoded['Survived']\n",
    "\n",
    "# Identify numerical and categorical features\n",
    "numerical_features = ['Pclass', 'Age', 'SibSp', 'Parch', 'Fare']\n",
    "categorical_features = ['Sex_female', 'Sex_male']\n",
    "\n",
    "# Define preprocessing steps\n",
    "preprocessor = ColumnTransformer(\n",
    "    transformers=[\n",
    "        ('num', StandardScaler(), numerical_features)\n",
    "\n",
    "    ])\n",
    "\n",
    "X_train, X_test, y_train, y_test = train_test_split(X, y, test_size=0.2, random_state=42)\n",
    "def evaluate_decision_tree(max_depth_range):\n",
    "    train_accuracies = []\n",
    "    val_accuracies = []\n",
    "    \n",
    "    for max_depth in max_depth_range:\n",
    "       \n",
    "        pipeline = Pipeline(steps=[\n",
    "            ('preprocessor', preprocessor),\n",
    "            ('classifier', DecisionTreeClassifier(max_depth=max_depth))\n",
    "        ])\n",
    "        \n",
    "        # Train the model\n",
    "        pipeline.fit(X_train, y_train)\n",
    "        \n",
    "        # Evaluate on training data\n",
    "        y_train_pred = pipeline.predict(X_train)\n",
    "        train_accuracy = accuracy_score(y_train, y_train_pred)\n",
    "        train_accuracies.append(train_accuracy)\n",
    "    \n",
    "        y_val_pred = pipeline.predict(X_test)\n",
    "        val_accuracy = accuracy_score(y_test, y_val_pred)\n",
    "        val_accuracies.append(val_accuracy)\n",
    "    \n",
    "    return train_accuracies, val_accuracies\n",
    "\n",
    "# Define the range of depths to evaluate\n",
    "max_depth_range = range(1, 21)\n",
    "\n",
    "train_accuracies, val_accuracies = evaluate_decision_tree(max_depth_range)\n",
    "\n",
    "# Plot training and validation accuracies\n",
    "plt.figure(figsize=(10, 6))\n",
    "plt.plot(max_depth_range, train_accuracies, label='Training Accuracy')\n",
    "plt.plot(max_depth_range, val_accuracies, label='Validation Accuracy')\n",
    "plt.xlabel('Max Depth')\n",
    "plt.ylabel('Accuracy')\n",
    "plt.title('Decision Tree: Accuracy vs Max Depth')\n",
    "plt.legend()\n",
    "plt.grid(True)\n",
    "plt.show()"
   ]
  },
  {
   "cell_type": "code",
   "execution_count": 32,
   "id": "cccda21c-e754-40ae-9e3d-95ca8d9cfec3",
   "metadata": {},
   "outputs": [
    {
     "name": "stdout",
     "output_type": "stream",
     "text": [
      "\n",
      "Model Evaluation:\n",
      "Accuracy: 0.7318435754189944\n",
      "Precision: 0.7708333333333334\n",
      "Recall: 0.5\n",
      "F1-Score: 0.6065573770491803\n"
     ]
    }
   ],
   "source": [
    "#Q  3\n",
    "\n",
    "X = data_encoded.drop('Survived', axis=1)\n",
    "y = data_encoded['Survived']\n",
    "\n",
    "# Identify numerical and categorical features\n",
    "numerical_features = ['Pclass', 'Age', 'SibSp', 'Parch', 'Fare']\n",
    "categorical_features = ['Sex_female', 'Sex_male']\n",
    "\n",
    "\n",
    "preprocessor = ColumnTransformer(\n",
    "    transformers=[\n",
    "        ('num', StandardScaler(), numerical_features)\n",
    "    \n",
    "    ])\n",
    "\n",
    "\n",
    "pipeline = Pipeline(steps=[\n",
    "    ('preprocessor', preprocessor),\n",
    "    ('classifier', LogisticRegression())\n",
    "])\n",
    "\n",
    "\n",
    "X_train, X_test, y_train, y_test = train_test_split(X, y, test_size=0.2, random_state=42)\n",
    "\n",
    "# Fit the model\n",
    "pipeline.fit(X_train, y_train)\n",
    "\n",
    "# Make predictions\n",
    "y_pred = pipeline.predict(X_test)\n",
    "\n",
    "accuracy = accuracy_score(y_test, y_pred)\n",
    "precision = precision_score(y_test, y_pred)\n",
    "recall = recall_score(y_test, y_pred)\n",
    "f1 = f1_score(y_test, y_pred)\n",
    "\n",
    "print(\"\\nModel Evaluation:\")\n",
    "print(\"Accuracy:\", accuracy)\n",
    "print(\"Precision:\", precision)\n",
    "print(\"Recall:\", recall)\n",
    "print(\"F1-Score:\", f1)"
   ]
  },
  {
   "cell_type": "code",
   "execution_count": 33,
   "id": "8c3ae3b3-d25b-4953-bfff-f8479eb0bafb",
   "metadata": {},
   "outputs": [
    {
     "name": "stdout",
     "output_type": "stream",
     "text": [
      "Accuracy: 0.6145251396648045\n"
     ]
    },
    {
     "ename": "NameError",
     "evalue": "name 'auc' is not defined",
     "output_type": "error",
     "traceback": [
      "\u001b[1;31m---------------------------------------------------------------------------\u001b[0m",
      "\u001b[1;31mNameError\u001b[0m                                 Traceback (most recent call last)",
      "Cell \u001b[1;32mIn[33], line 21\u001b[0m\n\u001b[0;32m     19\u001b[0m \u001b[38;5;66;03m# Compute ROC curve and AUC\u001b[39;00m\n\u001b[0;32m     20\u001b[0m fpr, tpr, thresholds \u001b[38;5;241m=\u001b[39m roc_curve(y_test, y_pred_prob)\n\u001b[1;32m---> 21\u001b[0m roc_auc \u001b[38;5;241m=\u001b[39m \u001b[43mauc\u001b[49m(fpr, tpr)\n\u001b[0;32m     22\u001b[0m \u001b[38;5;28mprint\u001b[39m(\u001b[38;5;124m\"\u001b[39m\u001b[38;5;124mAUC:\u001b[39m\u001b[38;5;124m\"\u001b[39m, roc_auc)\n\u001b[0;32m     24\u001b[0m \u001b[38;5;66;03m# Plot ROC curve\u001b[39;00m\n",
      "\u001b[1;31mNameError\u001b[0m: name 'auc' is not defined"
     ]
    }
   ],
   "source": [
    "#Q 4\n",
    "pipeline = Pipeline(steps=[\n",
    "    ('preprocessor', preprocessor),\n",
    "    ('classifier', DecisionTreeClassifier())\n",
    "])\n",
    "\n",
    "X_train, X_test, y_train, y_test = train_test_split(X, y, test_size=0.2, random_state=42)\n",
    "\n",
    "pipeline.fit(X_train, y_train)\n",
    "\n",
    "# Make predictions\n",
    "y_pred = pipeline.predict(X_test)\n",
    "y_pred_prob = pipeline.predict_proba(X_test)[:, 1]\n",
    "\n",
    "# Compute accuracy\n",
    "accuracy = accuracy_score(y_test, y_pred)\n",
    "print(\"Accuracy:\", accuracy)\n",
    "\n",
    "# Compute ROC curve and AUC\n",
    "fpr, tpr, thresholds = roc_curve(y_test, y_pred_prob)\n",
    "roc_auc = auc(fpr, tpr)\n",
    "print(\"AUC:\", roc_auc)\n",
    "\n",
    "# Plot ROC curve\n",
    "plt.figure(figsize=(8, 6))\n",
    "plt.plot(fpr, tpr, color='darkorange', lw=2, label='ROC curve (area = %0.2f)' % roc_auc)\n",
    "plt.plot([0, 1], [0, 1], color='navy', lw=2, linestyle='--')\n",
    "plt.xlim([0.0, 1.0])\n",
    "plt.ylim([0.0, 1.05])\n",
    "plt.xlabel('False Positive Rate')\n",
    "plt.ylabel('True Positive Rate')\n",
    "plt.title('Receiver Operating Characteristic (ROC) Curve')\n",
    "plt.legend(loc=\"lower right\")\n",
    "plt.grid(True)\n",
    "plt.show()"
   ]
  },
  {
   "cell_type": "code",
   "execution_count": null,
   "id": "c63a22d4-a880-4f2f-b067-be3587b577a5",
   "metadata": {},
   "outputs": [],
   "source": []
  }
 ],
 "metadata": {
  "kernelspec": {
   "display_name": "Python 3 (ipykernel)",
   "language": "python",
   "name": "python3"
  },
  "language_info": {
   "codemirror_mode": {
    "name": "ipython",
    "version": 3
   },
   "file_extension": ".py",
   "mimetype": "text/x-python",
   "name": "python",
   "nbconvert_exporter": "python",
   "pygments_lexer": "ipython3",
   "version": "3.12.1"
  }
 },
 "nbformat": 4,
 "nbformat_minor": 5
}
