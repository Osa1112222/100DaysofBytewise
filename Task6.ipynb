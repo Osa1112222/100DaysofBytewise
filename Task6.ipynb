{
 "cells": [
  {
   "cell_type": "code",
   "execution_count": 13,
   "id": "6a3ecdcd-6cb2-4e17-abba-25eba134d977",
   "metadata": {},
   "outputs": [
    {
     "name": "stdout",
     "output_type": "stream",
     "text": [
      "   sepal length (cm)  sepal width (cm)  petal length (cm)  petal width (cm)  \\\n",
      "0                5.1               3.5                1.4               0.2   \n",
      "1                4.9               3.0                1.4               0.2   \n",
      "2                4.7               3.2                1.3               0.2   \n",
      "3                4.6               3.1                1.5               0.2   \n",
      "4                5.0               3.6                1.4               0.2   \n",
      "\n",
      "   target  \n",
      "0       0  \n",
      "1       0  \n",
      "2       0  \n",
      "3       0  \n",
      "4       0  \n"
     ]
    }
   ],
   "source": [
    "#Q1\n",
    "\n",
    "import numpy as np\n",
    "import pandas as pd\n",
    "import matplotlib.pyplot as plt\n",
    "from sklearn.datasets import load_iris\n",
    "\n",
    "\n",
    "iris = load_iris()\n",
    "\n",
    "\n",
    "data = pd.DataFrame(data=iris.data, columns=iris.feature_names)\n",
    "data['target'] = iris.target\n",
    "\n",
    "\n",
    "print(data.head())\n"
   ]
  },
  {
   "cell_type": "code",
   "execution_count": 5,
   "id": "55948a96-3647-4b09-8a6b-6a82ca0c2490",
   "metadata": {},
   "outputs": [
    {
     "name": "stdout",
     "output_type": "stream",
     "text": [
      "Number of features: 15\n",
      "Number of samples: 506\n"
     ]
    }
   ],
   "source": [
    "#Q2\n",
    "import pandas as pd\n",
    "\n",
    "def data_info(dataset):\n",
    "    samples = data.shape[0]\n",
    "\n",
    "    features = data.shape[1]\n",
    "\n",
    "    return features , samples\n",
    "\n",
    "\n",
    "\n",
    "data = pd.read_csv('Boston.csv')\n",
    "\n",
    "features , samples = data_info(data)\n",
    "\n",
    "print(f\"Number of features: {features}\")\n",
    "print(f\"Number of samples: {samples}\")\n"
   ]
  },
  {
   "cell_type": "code",
   "execution_count": 8,
   "id": "5e00d52f-6068-4eef-87ab-cd1c571abd76",
   "metadata": {},
   "outputs": [
    {
     "name": "stdout",
     "output_type": "stream",
     "text": [
      "Training set size: (405, 15)\n",
      "Test set size: (101, 15)\n",
      "\n",
      "Training set:\n",
      "   Unnamed: 0     CRIM    ZN  INDUS  CHAS    NOX     RM   AGE     DIS  RAD  \\\n",
      "0           0  0.00632  18.0   2.31   0.0  0.538  6.575  65.2  4.0900  1.0   \n",
      "1           1  0.02731   0.0   7.07   0.0  0.469  6.421  78.9  4.9671  2.0   \n",
      "2           2  0.02729   0.0   7.07   0.0  0.469  7.185  61.1  4.9671  2.0   \n",
      "3           3  0.03237   0.0   2.18   0.0  0.458  6.998  45.8  6.0622  3.0   \n",
      "4           4  0.06905   0.0   2.18   0.0  0.458  7.147  54.2  6.0622  3.0   \n",
      "\n",
      "     TAX  PTRATIO       B  LSTAT  Price  \n",
      "0  296.0     15.3  396.90   4.98   24.0  \n",
      "1  242.0     17.8  396.90   9.14   21.6  \n",
      "2  242.0     17.8  392.83   4.03   34.7  \n",
      "3  222.0     18.7  394.63   2.94   33.4  \n",
      "4  222.0     18.7  396.90   5.33   36.2  \n",
      "\n",
      "Test set:\n",
      "     Unnamed: 0      CRIM   ZN  INDUS  CHAS    NOX     RM    AGE     DIS  \\\n",
      "405         405  67.92080  0.0   18.1   0.0  0.693  5.683  100.0  1.4254   \n",
      "406         406  20.71620  0.0   18.1   0.0  0.659  4.138  100.0  1.1781   \n",
      "407         407  11.95110  0.0   18.1   0.0  0.659  5.608  100.0  1.2852   \n",
      "408         408   7.40389  0.0   18.1   0.0  0.597  5.617   97.9  1.4547   \n",
      "409         409  14.43830  0.0   18.1   0.0  0.597  6.852  100.0  1.4655   \n",
      "\n",
      "      RAD    TAX  PTRATIO       B  LSTAT  Price  \n",
      "405  24.0  666.0     20.2  384.97  22.98    5.0  \n",
      "406  24.0  666.0     20.2  370.22  23.34   11.9  \n",
      "407  24.0  666.0     20.2  332.09  12.13   27.9  \n",
      "408  24.0  666.0     20.2  314.64  26.40   17.2  \n",
      "409  24.0  666.0     20.2  179.36  19.78   27.5  \n"
     ]
    }
   ],
   "source": [
    "#Q3\n",
    "\n",
    "data = pd.read_csv('Boston.csv')\n",
    "\n",
    "data.head()\n",
    "\n",
    "split_point = round(data.shape[0] * 0.80)\n",
    "\n",
    "\n",
    "train_data = data.iloc[:split_point, :]\n",
    "\n",
    "test_data = data.iloc[split_point:, :]\n",
    "\n",
    "\n",
    "print(f\"Training set size: {train_data.shape}\")\n",
    "print(f\"Test set size: {test_data.shape}\")\n",
    "\n",
    "\n",
    "print(\"\\nTraining set:\")\n",
    "print(train_data.head())\n",
    "\n",
    "print(\"\\nTest set:\")\n",
    "print(test_data.head())\n"
   ]
  },
  {
   "cell_type": "code",
   "execution_count": 12,
   "id": "f73e7a41-d801-4089-8708-2974e1c0fbcc",
   "metadata": {},
   "outputs": [
    {
     "name": "stdout",
     "output_type": "stream",
     "text": [
      "Feature: CRIM\n",
      "Mean: 3.613523557312254\n",
      "Median: 0.25651\n",
      "Standard Deviation: 8.59304135129577\n",
      "\n",
      "Feature: ZN\n",
      "Mean: 11.363636363636363\n",
      "Median: 0.0\n",
      "Standard Deviation: 23.29939569476613\n",
      "\n",
      "Feature: INDUS\n",
      "Mean: 11.13677865612648\n",
      "Median: 9.69\n",
      "Standard Deviation: 6.853570583390874\n",
      "\n",
      "Feature: CHAS\n",
      "Mean: 0.0691699604743083\n",
      "Median: 0.0\n",
      "Standard Deviation: 0.2537429349603471\n",
      "\n",
      "Feature: NOX\n",
      "Mean: 0.5546950592885376\n",
      "Median: 0.538\n",
      "Standard Deviation: 0.11576311540656137\n",
      "\n",
      "Feature: RM\n",
      "Mean: 6.284634387351779\n",
      "Median: 6.2085\n",
      "Standard Deviation: 0.7019225143345689\n",
      "\n",
      "Feature: AGE\n",
      "Mean: 68.57490118577076\n",
      "Median: 77.5\n",
      "Standard Deviation: 28.121032570236867\n",
      "\n",
      "Feature: DIS\n",
      "Mean: 3.795042687747036\n",
      "Median: 3.2074499999999997\n",
      "Standard Deviation: 2.1036283563444593\n",
      "\n",
      "Feature: RAD\n",
      "Mean: 9.549407114624506\n",
      "Median: 5.0\n",
      "Standard Deviation: 8.698651117790636\n",
      "\n",
      "Feature: TAX\n",
      "Mean: 408.2371541501976\n",
      "Median: 330.0\n",
      "Standard Deviation: 168.37049503938118\n",
      "\n",
      "Feature: PTRATIO\n",
      "Mean: 18.455533596837945\n",
      "Median: 19.05\n",
      "Standard Deviation: 2.1628051914821365\n",
      "\n",
      "Feature: B\n",
      "Mean: 356.6740316205534\n",
      "Median: 391.44\n",
      "Standard Deviation: 91.20460745217277\n",
      "\n",
      "Feature: LSTAT\n",
      "Mean: 12.653063241106722\n",
      "Median: 11.36\n",
      "Standard Deviation: 7.134001636650485\n",
      "\n",
      "Feature: Price\n",
      "Mean: 22.532806324110677\n",
      "Median: 21.2\n",
      "Standard Deviation: 9.188011545278203\n",
      "\n"
     ]
    }
   ],
   "source": [
    "#Q4\n",
    "\n",
    "\n",
    "\n",
    "\n",
    "data = pd.read_csv('Boston.csv')\n",
    "\n",
    "data = data.iloc[:,1:]\n",
    "for column in data.columns:\n",
    "    \n",
    "    if data[column].dtype in ['int64', 'float64']:  \n",
    "        \n",
    "        mean_value = np.mean(data[column])\n",
    "        median_value = np.median(data[column])\n",
    "        std_dev = np.std(data[column])\n",
    "        \n",
    "        print(f\"Feature: {column}\")\n",
    "        print(f\"Mean: {mean_value}\")\n",
    "        print(f\"Median: {median_value}\")\n",
    "        print(f\"Standard Deviation: {std_dev}\\n\")\n"
   ]
  },
  {
   "cell_type": "code",
   "execution_count": 14,
   "id": "37b0bb8e-1b1b-49f0-b559-85c2cb35afdb",
   "metadata": {},
   "outputs": [
    {
     "data": {
      "image/png": "[encoded data removed]",
      "text/plain": [
       "<Figure size 640x480 with 1 Axes>"
      ]
     },
     "metadata": {},
     "output_type": "display_data"
    }
   ],
   "source": [
    "#Q5\n",
    "\n",
    "data = pd.read_csv('Boston.csv')\n",
    "\n",
    "\n",
    "\n",
    "\n",
    "\n",
    "feature = 'Price'\n",
    "\n",
    "\n",
    "plt.hist(data[feature], bins=30, edgecolor='black')\n",
    "plt.title(f'Distribution of {feature}')\n",
    "plt.xlabel(f'{feature}')\n",
    "plt.ylabel('Frequency')\n",
    "plt.show()\n"
   ]
  },
  {
   "cell_type": "code",
   "execution_count": 15,
   "id": "b58a3d41-970f-47e8-be9c-58537e328756",
   "metadata": {},
   "outputs": [
    {
     "name": "stdout",
     "output_type": "stream",
     "text": [
      "mean of list is \"  5.2\n"
     ]
    }
   ],
   "source": [
    "#Q6\n",
    "\n",
    "num_list = [ 1,2,3,4,5,6,7,8,9,7]\n",
    "\n",
    "m_value = sum(num_list)/len(num_list)\n",
    "\n",
    "print('mean of list is \" ' ,m_value)"
   ]
  },
  {
   "cell_type": "code",
   "execution_count": 16,
   "id": "7129e45c-1779-4a19-845c-a381816db0b0",
   "metadata": {},
   "outputs": [
    {
     "name": "stdin",
     "output_type": "stream",
     "text": [
      "Enter a list of numbers separated by spaces:  2 3 5 8 2 3 4 1\n"
     ]
    },
    {
     "name": "stdout",
     "output_type": "stream",
     "text": [
      "{'count': 8, 'mean': 3.5, 'median': 3.0, 'std_dev': 2.0615528128088303}\n"
     ]
    }
   ],
   "source": [
    "#Q7\n",
    "import numpy as np\n",
    "\n",
    "def calculate_statistics(numbers):\n",
    "   \n",
    "    stats = {}\n",
    "    \n",
    "  \n",
    "    stats['count'] = len(numbers)\n",
    "    \n",
    "  \n",
    "    stats['mean'] = np.mean(numbers)\n",
    "    \n",
    "  \n",
    "    stats['median'] = np.median(numbers)\n",
    "    \n",
    " \n",
    "    stats['std_dev'] = np.std(numbers)\n",
    "    \n",
    "   \n",
    "    return stats\n",
    "\n",
    "\n",
    "input_numbers = input(\"Enter a list of numbers separated by spaces: \")\n",
    "numbers = [float(num) for num in input_numbers.split()]\n",
    "\n",
    "\n",
    "stats = calculate_statistics(numbers)\n",
    "\n",
    "\n",
    "print(stats)\n"
   ]
  },
  {
   "cell_type": "code",
   "execution_count": 17,
   "id": "49a03c24-1211-4b0e-9c06-16028f2d02a8",
   "metadata": {},
   "outputs": [
    {
     "name": "stdout",
     "output_type": "stream",
     "text": [
      "5x5 Matrix of Random Integer Numbers:\n",
      "[[ 55  61  19  71  87]\n",
      " [100  82  21  71   2]\n",
      " [ 62  81  86  58  93]\n",
      " [ 24  77  12  59  55]\n",
      " [ 52   9   2  29  25]]\n"
     ]
    }
   ],
   "source": [
    "#Q8\n",
    "import numpy as np\n",
    "\n",
    "\n",
    "random_matrix = np.random.randint(0, 101, size=(5, 5))\n",
    "\n",
    "\n",
    "print(\"5x5 Matrix of Random Integer Numbers:\")\n",
    "print(random_matrix)\n"
   ]
  },
  {
   "cell_type": "code",
   "execution_count": 19,
   "id": "9b918fd8-08b9-45c7-b415-61ba1608eb2e",
   "metadata": {},
   "outputs": [
    {
     "name": "stdout",
     "output_type": "stream",
     "text": [
      "             CRIM          ZN       INDUS        CHAS         NOX          RM  \\\n",
      "count  506.000000  506.000000  506.000000  506.000000  506.000000  506.000000   \n",
      "mean     3.613524   11.363636   11.136779    0.069170    0.554695    6.284634   \n",
      "std      8.601545   23.322453    6.860353    0.253994    0.115878    0.702617   \n",
      "min      0.006320    0.000000    0.460000    0.000000    0.385000    3.561000   \n",
      "25%      0.082045    0.000000    5.190000    0.000000    0.449000    5.885500   \n",
      "50%      0.256510    0.000000    9.690000    0.000000    0.538000    6.208500   \n",
      "75%      3.677083   12.500000   18.100000    0.000000    0.624000    6.623500   \n",
      "max     88.976200  100.000000   27.740000    1.000000    0.871000    8.780000   \n",
      "\n",
      "              AGE         DIS         RAD         TAX     PTRATIO           B  \\\n",
      "count  506.000000  506.000000  506.000000  506.000000  506.000000  506.000000   \n",
      "mean    68.574901    3.795043    9.549407  408.237154   18.455534  356.674032   \n",
      "std     28.148861    2.105710    8.707259  168.537116    2.164946   91.294864   \n",
      "min      2.900000    1.129600    1.000000  187.000000   12.600000    0.320000   \n",
      "25%     45.025000    2.100175    4.000000  279.000000   17.400000  375.377500   \n",
      "50%     77.500000    3.207450    5.000000  330.000000   19.050000  391.440000   \n",
      "75%     94.075000    5.188425   24.000000  666.000000   20.200000  396.225000   \n",
      "max    100.000000   12.126500   24.000000  711.000000   22.000000  396.900000   \n",
      "\n",
      "            LSTAT       Price  \n",
      "count  506.000000  506.000000  \n",
      "mean    12.653063   22.532806  \n",
      "std      7.141062    9.197104  \n",
      "min      1.730000    5.000000  \n",
      "25%      6.950000   17.025000  \n",
      "50%     11.360000   21.200000  \n",
      "75%     16.955000   25.000000  \n",
      "max     37.970000   50.000000  \n"
     ]
    }
   ],
   "source": [
    "#Q9\n",
    "import pandas as pd\n",
    "\n",
    "\n",
    "file_path = 'Boston.csv'  \n",
    "\n",
    "data = pd.read_csv(file_path)\n",
    "data = data.iloc[:,1:]\n",
    "\n",
    "print(data.describe())\n"
   ]
  },
  {
   "cell_type": "code",
   "execution_count": 21,
   "id": "4376ef5a-8fff-46e4-8313-4afdd294e7e0",
   "metadata": {},
   "outputs": [
    {
     "name": "stdout",
     "output_type": "stream",
     "text": [
      "Intercept: 30.24675099392349\n",
      "Coefficients: [-1.13055924e-01  3.01104641e-02  4.03807204e-02  2.78443820e+00\n",
      " -1.72026334e+01  4.43883520e+00 -6.29636221e-03 -1.44786537e+00\n",
      "  2.62429736e-01 -1.06467863e-02 -9.15456240e-01  1.23513347e-02\n",
      " -5.08571424e-01]\n",
      "Feature names: Index(['CRIM', 'ZN', 'INDUS', 'CHAS', 'NOX', 'RM', 'AGE', 'DIS', 'RAD', 'TAX',\n",
      "       'PTRATIO', 'B', 'LSTAT'],\n",
      "      dtype='object')\n"
     ]
    }
   ],
   "source": [
    "#Q10\n",
    "import pandas as pd\n",
    "from sklearn.model_selection import train_test_split\n",
    "from sklearn.linear_model import LinearRegression\n",
    "\n",
    "file_path = 'Boston.csv'\n",
    "data = pd.read_csv(file_path)\n",
    "data = data.iloc[:, 1:]\n",
    "\n",
    "X = data.drop('Price', axis=1)\n",
    "y = data['Price']\n",
    "\n",
    "X_train, X_test, y_train, y_test = train_test_split(X, y, test_size=0.2, random_state=42)\n",
    "\n",
    "model = LinearRegression()\n",
    "model.fit(X_train, y_train)\n",
    "\n",
    "print(\"Intercept:\", model.intercept_)\n",
    "print(\"Coefficients:\", model.coef_)\n",
    "print(\"Feature names:\", X.columns)\n",
    "\n"
   ]
  },
  {
   "cell_type": "code",
   "execution_count": null,
   "id": "a67f5de1-3b9f-46a4-a759-ee8113d7849a",
   "metadata": {},
   "outputs": [],
   "source": []
  }
 ],
 "metadata": {
  "kernelspec": {
   "display_name": "Python 3 (ipykernel)",
   "language": "python",
   "name": "python3"
  },
  "language_info": {
   "codemirror_mode": {
    "name": "ipython",
    "version": 3
   },
   "file_extension": ".py",
   "mimetype": "text/x-python",
   "name": "python",
   "nbconvert_exporter": "python",
   "pygments_lexer": "ipython3",
   "version": "3.12.1"
  }
 },
 "nbformat": 4,
 "nbformat_minor": 5
}
