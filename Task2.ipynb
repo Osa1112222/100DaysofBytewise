{
 "cells": [
  {
   "cell_type": "code",
   "execution_count": 6,
   "id": "b700788e-b3ed-4b44-a9d3-f4b5a67b5f79",
   "metadata": {},
   "outputs": [
    {
     "name": "stdout",
     "output_type": "stream",
     "text": [
      "enter an string :\n"
     ]
    },
    {
     "name": "stdin",
     "output_type": "stream",
     "text": [
      " racecar\n"
     ]
    },
    {
     "name": "stdout",
     "output_type": "stream",
     "text": [
      "entered string is palindrome\n"
     ]
    }
   ],
   "source": [
    "#Q1\n",
    "\n",
    "print('enter an string :')\n",
    "\n",
    "x = input()\n",
    "count = 0\n",
    "if x == x[::-1]:\n",
    "    count = 1\n",
    "\n",
    "if count == 1:\n",
    "    print('entered string is palindrome')\n",
    "else:\n",
    "      print('entered string is not palindrome')"
   ]
  },
  {
   "cell_type": "code",
   "execution_count": 7,
   "id": "681279ed-65e2-4ffd-8fad-dc2324c7c442",
   "metadata": {},
   "outputs": [
    {
     "name": "stdout",
     "output_type": "stream",
     "text": [
      "FizzBuzz\n",
      "1\n",
      "2\n",
      "Fizz\n",
      "4\n",
      "Buzz\n",
      "Fizz\n",
      "7\n",
      "8\n",
      "Fizz\n",
      "Buzz\n",
      "11\n",
      "Fizz\n",
      "13\n",
      "14\n",
      "FizzBuzz\n",
      "16\n",
      "17\n",
      "Fizz\n",
      "19\n",
      "Buzz\n",
      "Fizz\n",
      "22\n",
      "23\n",
      "Fizz\n",
      "Buzz\n",
      "26\n",
      "Fizz\n",
      "28\n",
      "29\n",
      "FizzBuzz\n",
      "31\n",
      "32\n",
      "Fizz\n",
      "34\n",
      "Buzz\n",
      "Fizz\n",
      "37\n",
      "38\n",
      "Fizz\n",
      "Buzz\n",
      "41\n",
      "Fizz\n",
      "43\n",
      "44\n",
      "FizzBuzz\n",
      "46\n",
      "47\n",
      "Fizz\n",
      "49\n",
      "Buzz\n",
      "Fizz\n",
      "52\n",
      "53\n",
      "Fizz\n",
      "Buzz\n",
      "56\n",
      "Fizz\n",
      "58\n",
      "59\n",
      "FizzBuzz\n",
      "61\n",
      "62\n",
      "Fizz\n",
      "64\n",
      "Buzz\n",
      "Fizz\n",
      "67\n",
      "68\n",
      "Fizz\n",
      "Buzz\n",
      "71\n",
      "Fizz\n",
      "73\n",
      "74\n",
      "FizzBuzz\n",
      "76\n",
      "77\n",
      "Fizz\n",
      "79\n",
      "Buzz\n",
      "Fizz\n",
      "82\n",
      "83\n",
      "Fizz\n",
      "Buzz\n",
      "86\n",
      "Fizz\n",
      "88\n",
      "89\n",
      "FizzBuzz\n",
      "91\n",
      "92\n",
      "Fizz\n",
      "94\n",
      "Buzz\n",
      "Fizz\n",
      "97\n",
      "98\n",
      "Fizz\n"
     ]
    }
   ],
   "source": [
    "#q2\n",
    "\n",
    "for i in range(0 ,100):\n",
    "    if i%3 == 0 and i%5 == 0:\n",
    "        print('FizzBuzz')\n",
    "    elif i%3 == 0:\n",
    "        print('Fizz')\n",
    "    elif i%5 == 0:\n",
    "        print('Buzz')\n",
    "    else:\n",
    "        print(i)\n",
    "\n",
    "\n"
   ]
  },
  {
   "cell_type": "code",
   "execution_count": 27,
   "id": "7a2fd4d0-8c5e-48a3-be95-97e23255b285",
   "metadata": {},
   "outputs": [
    {
     "name": "stdout",
     "output_type": "stream",
     "text": [
      "enter an string :\n"
     ]
    },
    {
     "name": "stdin",
     "output_type": "stream",
     "text": [
      " 10\n"
     ]
    },
    {
     "name": "stdout",
     "output_type": "stream",
     "text": [
      "The  10 th Fibonacci number is  55\n"
     ]
    }
   ],
   "source": [
    "#Q3\n",
    "\n",
    "\n",
    "print('enter an string :')\n",
    "\n",
    "x =int( input())\n",
    "\n",
    "count = 2\n",
    "n1 = 0 \n",
    "n2 = 1\n",
    "while count <= x:\n",
    "   \n",
    "    a = n1+ n2\n",
    "    n1 = n2\n",
    "    n2 = a\n",
    "    count +=1\n",
    "\n",
    "print('The ' ,x ,'th Fibonacci number is ', n2)"
   ]
  },
  {
   "cell_type": "code",
   "execution_count": 30,
   "id": "918fe67d-b590-49eb-a036-029dcd6675ad",
   "metadata": {},
   "outputs": [
    {
     "name": "stdout",
     "output_type": "stream",
     "text": [
      "enter an string :\n"
     ]
    },
    {
     "name": "stdin",
     "output_type": "stream",
     "text": [
      " 7\n"
     ]
    },
    {
     "name": "stdout",
     "output_type": "stream",
     "text": [
      "7 is a prime number\n"
     ]
    }
   ],
   "source": [
    "#Q4\n",
    "\n",
    "print('enter an number :')\n",
    "\n",
    "x =int( input())\n",
    "\n",
    "\n",
    "\n",
    "\n",
    "\n",
    "flag = False\n",
    "\n",
    "if x == 1:\n",
    "    print(x, \"is not a prime number\")\n",
    "elif x > 1:\n",
    "   \n",
    "    for i in range(2, x):\n",
    "        if (x % i) == 0:\n",
    "           \n",
    "            flag = True\n",
    "           \n",
    "            break\n",
    "\n",
    "if flag:\n",
    "    print(x, \"is not a prime number\")\n",
    "else:\n",
    "    print(x, \"is a prime number\")\n"
   ]
  },
  {
   "cell_type": "code",
   "execution_count": 33,
   "id": "d4865b59-bf3e-460a-be63-0f5ab26f510b",
   "metadata": {},
   "outputs": [
    {
     "name": "stdout",
     "output_type": "stream",
     "text": [
      "enter an number :\n"
     ]
    },
    {
     "name": "stdin",
     "output_type": "stream",
     "text": [
      " 5\n"
     ]
    },
    {
     "name": "stdout",
     "output_type": "stream",
     "text": [
      "your guess is too low \n"
     ]
    }
   ],
   "source": [
    "#Q5\n",
    "\n",
    "import random\n",
    "\n",
    "x = (random.randrange(0, 100))\n",
    "\n",
    "\n",
    "print('enter an number :')\n",
    "\n",
    "y =int( input())\n",
    "\n",
    "\n",
    "if y == x:\n",
    "    print('your guess is correct ')\n",
    "elif y>x:\n",
    "    print('your guess is too high')\n",
    "else:\n",
    "    print('your guess is too low ')\n",
    "\n"
   ]
  },
  {
   "cell_type": "code",
   "execution_count": 35,
   "id": "fe1ed188-81d7-4696-ba40-31c0022e50b4",
   "metadata": {},
   "outputs": [
    {
     "name": "stdout",
     "output_type": "stream",
     "text": [
      "[0, 1, 4, 9, 16, 25, 36, 49, 64, 81, 100]\n"
     ]
    }
   ],
   "source": [
    "#Q6\n",
    "\n",
    "mlist = []\n",
    "for i in range(0 , 11):\n",
    "    a = i**2\n",
    "    mlist.append(a)\n",
    "\n",
    "print(mlist)\n",
    "    "
   ]
  },
  {
   "cell_type": "code",
   "execution_count": 42,
   "id": "1a2c33f7-d05d-479e-8083-682eb0baabbe",
   "metadata": {},
   "outputs": [
    {
     "name": "stdout",
     "output_type": "stream",
     "text": [
      "enter an string :\n"
     ]
    },
    {
     "name": "stdin",
     "output_type": "stream",
     "text": [
      " A man a plan a canal Panama\n"
     ]
    },
    {
     "name": "stdout",
     "output_type": "stream",
     "text": [
      "enetr sentance is palindrome\n"
     ]
    }
   ],
   "source": [
    "#Q7\n",
    "print('enter an string :')\n",
    "\n",
    "x = input()\n",
    "\n",
    "b= ''.join(char.lower() for char in x if char.isalnum())\n",
    "a = b[::-1]\n",
    "\n",
    "if b==a:\n",
    "    print('enetr sentance is palindrome')\n",
    "else:\n",
    "    print('not palindrome')\n",
    "\n",
    "\n"
   ]
  },
  {
   "cell_type": "code",
   "execution_count": 45,
   "id": "9d62ccd4-c184-4367-9b22-90af57fbd631",
   "metadata": {},
   "outputs": [
    {
     "name": "stdout",
     "output_type": "stream",
     "text": [
      "enter first string :\n"
     ]
    },
    {
     "name": "stdin",
     "output_type": "stream",
     "text": [
      " dad\n"
     ]
    },
    {
     "name": "stdout",
     "output_type": "stream",
     "text": [
      "enter second string :\n"
     ]
    },
    {
     "name": "stdin",
     "output_type": "stream",
     "text": [
      " bad\n"
     ]
    },
    {
     "name": "stdout",
     "output_type": "stream",
     "text": [
      "not anagrams \n"
     ]
    }
   ],
   "source": [
    "#Q8\n",
    "print('enter first string :')\n",
    "\n",
    "x = input()\n",
    "\n",
    "print('enter second string :')\n",
    "\n",
    "y = input()\n",
    "\n",
    "count1 = {}\n",
    "count2 = {}\n",
    "c = 0\n",
    "for i in x:\n",
    "    count1[i] = count1.get(i,0) +1\n",
    "    \n",
    "for i in y:\n",
    "    count2[i] = count2.get(i,0) +1\n",
    "\n",
    "for i in count1:\n",
    "    if count1[i] != count2.get(i , 0):\n",
    "        c = 1\n",
    "\n",
    "if c == 1:\n",
    "    print('not anagrams ')\n",
    "\n",
    "else:\n",
    "    print('anagrams')\n",
    "    "
   ]
  },
  {
   "cell_type": "code",
   "execution_count": null,
   "id": "dc949769-82ca-4bd8-90c8-7331a60e16c0",
   "metadata": {},
   "outputs": [],
   "source": [
    "#Q9\n",
    "\n"
   ]
  }
 ],
 "metadata": {
  "kernelspec": {
   "display_name": "Python 3 (ipykernel)",
   "language": "python",
   "name": "python3"
  },
  "language_info": {
   "codemirror_mode": {
    "name": "ipython",
    "version": 3
   },
   "file_extension": ".py",
   "mimetype": "text/x-python",
   "name": "python",
   "nbconvert_exporter": "python",
   "pygments_lexer": "ipython3",
   "version": "3.12.1"
  }
 },
 "nbformat": 4,
 "nbformat_minor": 5
}
