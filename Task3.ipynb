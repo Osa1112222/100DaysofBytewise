{
 "cells": [
  {
   "cell_type": "code",
   "execution_count": 2,
   "id": "d9e4c0e6-5550-4660-8e93-efa8f6595d2a",
   "metadata": {},
   "outputs": [
    {
     "name": "stdout",
     "output_type": "stream",
     "text": [
      "enter an number \n"
     ]
    },
    {
     "name": "stdin",
     "output_type": "stream",
     "text": [
      " 5\n"
     ]
    },
    {
     "name": "stdout",
     "output_type": "stream",
     "text": [
      "factorial of  5    is :  120\n"
     ]
    }
   ],
   "source": [
    "#Q1\n",
    "\n",
    "def fact( i):\n",
    "    if i == 1:\n",
    "        return i\n",
    "    else:\n",
    "        return i*fact(i-1)\n",
    "    \n",
    "    \n",
    "    \n",
    "\n",
    "\n",
    "\n",
    "print('enter an number ')\n",
    "x = int(input())\n",
    "\n",
    "f = fact(x)\n",
    "\n",
    "print('factorial of ', x , '   is : ' , f)\n",
    "\n",
    "\n"
   ]
  },
  {
   "cell_type": "code",
   "execution_count": 1,
   "id": "30b3a063-d877-4eba-b190-fc5ff3349920",
   "metadata": {},
   "outputs": [
    {
     "name": "stdout",
     "output_type": "stream",
     "text": [
      "Enter numbers to add in linked list, enter -1 to end data insertion:\n"
     ]
    },
    {
     "name": "stdin",
     "output_type": "stream",
     "text": [
      " 1\n",
      " 2\n",
      " 3\n",
      " 2\n",
      " 1\n",
      " -1\n"
     ]
    },
    {
     "name": "stdout",
     "output_type": "stream",
     "text": [
      "The linked list is a palindrome.\n"
     ]
    }
   ],
   "source": [
    "class Node:\n",
    "    def __init__(self, data):\n",
    "        self.data = data\n",
    "        self.next = None\n",
    "\n",
    "class LinkedList:\n",
    "    def __init__(self):\n",
    "        self.head = None\n",
    "\n",
    "    def append(self, data):\n",
    "        new_node = Node(data)\n",
    "        if self.head is None:\n",
    "            self.head = new_node\n",
    "        else:\n",
    "            last = self.head\n",
    "            while last.next:\n",
    "                last = last.next\n",
    "            last.next = new_node\n",
    "\n",
    "    def find_middle(self):\n",
    "        slow = self.head\n",
    "        fast = self.head\n",
    "        while fast and fast.next:\n",
    "            slow = slow.next\n",
    "            fast = fast.next.next\n",
    "        return slow\n",
    "\n",
    "    def reverse(self, head):\n",
    "        prev = None\n",
    "        current = head\n",
    "        while current:\n",
    "            next_node = current.next\n",
    "            current.next = prev\n",
    "            prev = current\n",
    "            current = next_node\n",
    "        return prev\n",
    "\n",
    "    def is_palindrome(self):\n",
    "        if not self.head or not self.head.next:\n",
    "            return True\n",
    "\n",
    "        middle = self.find_middle()\n",
    "        second_half_start = self.reverse(middle)\n",
    "\n",
    "        first_half_start = self.head\n",
    "        second_half_copy = second_half_start\n",
    "\n",
    "        while second_half_start:\n",
    "            if first_half_start.data != second_half_start.data:\n",
    "                return False\n",
    "            first_half_start = first_half_start.next\n",
    "            second_half_start = second_half_start.next\n",
    "\n",
    "        self.reverse(second_half_copy)  # Restore the list\n",
    "        return True\n",
    "\n",
    "if __name__ == \"__main__\":\n",
    "    ll = LinkedList()\n",
    "    print('Enter numbers to add in linked list, enter -1 to end data insertion:')\n",
    "\n",
    "    while True:\n",
    "        x = int(input())\n",
    "        if x == -1:\n",
    "            break\n",
    "        ll.append(x)\n",
    "\n",
    "    if ll.is_palindrome():\n",
    "        print(\"The linked list is a palindrome.\")\n",
    "    else:\n",
    "        print(\"The linked list is not a palindrome.\")\n"
   ]
  },
  {
   "cell_type": "code",
   "execution_count": 5,
   "id": "a4bb4c29-7da0-4919-a48a-291f38761a60",
   "metadata": {},
   "outputs": [
    {
     "name": "stdout",
     "output_type": "stream",
     "text": [
      "[1, 3, 5, 2, 4, 6]\n",
      "sorted array is : [1, 2, 3, 4, 5, 6]\n"
     ]
    }
   ],
   "source": [
    "#Q3\n",
    "\n",
    "def merge(array, left, mid, right):\n",
    "    subArrayOne = mid - left + 1\n",
    "    subArrayTwo = right - mid\n",
    "\n",
    "  \n",
    "    leftArray = [0] * subArrayOne\n",
    "    rightArray = [0] * subArrayTwo\n",
    "\n",
    "  \n",
    "    for i in range(subArrayOne):\n",
    "        leftArray[i] = array[left + i]\n",
    "    for j in range(subArrayTwo):\n",
    "        rightArray[j] = array[mid + 1 + j]\n",
    "\n",
    "    indexOfSubArrayOne = 0  \n",
    "    indexOfSubArrayTwo = 0  \n",
    "    indexOfMergedArray = left \n",
    "\n",
    "\n",
    "    while indexOfSubArrayOne < subArrayOne and indexOfSubArrayTwo < subArrayTwo:\n",
    "        if leftArray[indexOfSubArrayOne] <= rightArray[indexOfSubArrayTwo]:\n",
    "            array[indexOfMergedArray] = leftArray[indexOfSubArrayOne]\n",
    "            indexOfSubArrayOne += 1\n",
    "        else:\n",
    "            array[indexOfMergedArray] = rightArray[indexOfSubArrayTwo]\n",
    "            indexOfSubArrayTwo += 1\n",
    "        indexOfMergedArray += 1\n",
    "\n",
    "\n",
    "    while indexOfSubArrayOne < subArrayOne:\n",
    "        array[indexOfMergedArray] = leftArray[indexOfSubArrayOne]\n",
    "        indexOfSubArrayOne += 1\n",
    "        indexOfMergedArray += 1\n",
    "\n",
    "  \n",
    "    while indexOfSubArrayTwo < subArrayTwo:\n",
    "        array[indexOfMergedArray] = rightArray[indexOfSubArrayTwo]\n",
    "        indexOfSubArrayTwo += 1\n",
    "        indexOfMergedArray += 1\n",
    "\n",
    "\n",
    "def mergesort(array, begin, end):\n",
    "    if begin >= end:\n",
    "        return\n",
    "\n",
    "    mid = begin + (end - begin) // 2\n",
    "    mergeSort(array, begin, mid)\n",
    "    mergeSort(array, mid + 1, end)\n",
    "    merge(array, begin, mid, end)\n",
    "\n",
    "\n",
    "\n",
    "a = [1,3,5]\n",
    "b = [2,4,6]\n",
    "\n",
    "m = a+b\n",
    "print(m)\n",
    "siz = len(m)\n",
    "\n",
    "mergesort(m , 0 , siz-1)\n",
    "\n",
    "\n",
    "\n",
    "print('sorted array is :' , m)\n"
   ]
  },
  {
   "cell_type": "code",
   "execution_count": null,
   "id": "2af52070-b194-474c-bb36-4503c793fc13",
   "metadata": {},
   "outputs": [],
   "source": [
    "#Q4\n"
   ]
  },
  {
   "cell_type": "code",
   "execution_count": 6,
   "id": "5110926a-9336-4d71-ba81-08ffa233f89c",
   "metadata": {},
   "outputs": [
    {
     "name": "stdout",
     "output_type": "stream",
     "text": [
      "enter string to check palindrome \n"
     ]
    },
    {
     "name": "stdin",
     "output_type": "stream",
     "text": [
      " abbbbcxcd\n"
     ]
    },
    {
     "name": "stdout",
     "output_type": "stream",
     "text": [
      "Longest palindrome substring is: bbbb\n",
      "Length: 4\n"
     ]
    }
   ],
   "source": [
    "#Q5\n",
    "def printSubStr(s, low, high):\n",
    "    for i in range(low, high + 1):\n",
    "        print(s[i], end=\"\")\n",
    "    print()\n",
    "\n",
    "def longestPalSubstr(s):\n",
    "    n = len(s)\n",
    "    start = 0\n",
    "    end = 1\n",
    "\n",
    "    for i in range(n):\n",
    "     \n",
    "        low = i - 1\n",
    "        hi = i\n",
    "\n",
    "        while low >= 0 and hi < n and s[low] == s[hi]:\n",
    "            if hi - low + 1 > end:\n",
    "                start = low\n",
    "                end = hi - low + 1\n",
    "            low -= 1\n",
    "            hi += 1\n",
    "\n",
    "     \n",
    "        low = i - 1\n",
    "        hi = i + 1\n",
    "\n",
    "        while low >= 0 and hi < n and s[low] == s[hi]:\n",
    "            if hi - low + 1 > end:\n",
    "                start = low\n",
    "                end = hi - low + 1\n",
    "            low -= 1\n",
    "            hi += 1\n",
    "\n",
    "  \n",
    "    print(\"Longest palindrome substring is: \", end=\"\")\n",
    "    printSubStr(s, start, start + end - 1)\n",
    "\n",
    "    \n",
    "    return end\n",
    "\n",
    "\n",
    "if __name__=='__main__':\n",
    "\n",
    "    print('enter string to check palindrome ')\n",
    "    s = input()\n",
    "  \n",
    "    length = longestPalSubstr(s)\n",
    "    print(\"Length:\", length)\n",
    "    \n",
    "\n"
   ]
  },
  {
   "cell_type": "code",
   "execution_count": 7,
   "id": "8268fe3e-44b9-4972-b020-16afc51ab9e4",
   "metadata": {},
   "outputs": [
    {
     "name": "stdout",
     "output_type": "stream",
     "text": [
      "The Merged Intervals are : [1, 9] "
     ]
    }
   ],
   "source": [
    "#Q6\n",
    "\n",
    "def mergeIntervals(arr):\n",
    "\n",
    "\t\n",
    "\tarr.sort(key=lambda x: x[0])\n",
    "\n",
    "\t\n",
    "\tindex = 0\n",
    "\n",
    "\n",
    "\tfor i in range(1, len(arr)):\n",
    "\n",
    "\t\n",
    "\t\tif (arr[index][1] >= arr[i][0]):\n",
    "\t\t\tarr[index][1] = max(arr[index][1], arr[i][1])\n",
    "\t\telse:\n",
    "\t\t\tindex = index + 1\n",
    "\t\t\tarr[index] = arr[i]\n",
    "\n",
    "\tprint(\"The Merged Intervals are :\", end=\" \")\n",
    "\tfor i in range(index+1):\n",
    "\t\tprint(arr[i], end=\" \")\n",
    "\n",
    "\n",
    "\n",
    "arr = [[6, 8], [1, 9], [2, 4], [4, 7]]\n",
    "mergeIntervals(arr)\n"
   ]
  },
  {
   "cell_type": "code",
   "execution_count": 9,
   "id": "259ea8db-440f-4e34-a35f-f489e3dba2af",
   "metadata": {},
   "outputs": [
    {
     "name": "stdout",
     "output_type": "stream",
     "text": [
      "Maximum contiguous sum is 7\n",
      "Maximum contiguous subarray is [4, -1, -2, 1, 5]\n"
     ]
    }
   ],
   "source": [
    "#Q7\n",
    "def maxSubArraySum(a, size):\n",
    "    if size == 0:\n",
    "        return 0  \n",
    "\n",
    "    max_so_far = a[0]  \n",
    "    max_ending_here = a[0]\n",
    "    start = 0\n",
    "    end = 0\n",
    "    s = 0\n",
    "\n",
    "    for i in range(1, size):\n",
    "        if a[i] > max_ending_here + a[i]:\n",
    "            max_ending_here = a[i]\n",
    "            s = i\n",
    "        else:\n",
    "            max_ending_here += a[i]\n",
    "\n",
    "        if max_so_far < max_ending_here:\n",
    "            max_so_far = max_ending_here\n",
    "            start = s\n",
    "            end = i\n",
    "\n",
    "    print(\"Maximum contiguous sum is\", max_so_far)\n",
    "    print(\"Maximum contiguous subarray is\", a[start:end + 1])\n",
    "\n",
    "\n",
    "a = [-2, -3, 4, -1, -2, 1, 5, -3]\n",
    "size = len(a)\n",
    "maxSubArraySum(a, size)\n"
   ]
  },
  {
   "cell_type": "code",
   "execution_count": 10,
   "id": "dd79de53-dd01-45d7-9c99-e520000305b4",
   "metadata": {},
   "outputs": [
    {
     "name": "stdout",
     "output_type": "stream",
     "text": [
      "Given linked list\n",
      "4 3 2 1 \n",
      "Reversed linked list\n",
      "1 2 3 4 "
     ]
    }
   ],
   "source": [
    "#Q8\n",
    "\n",
    "\n",
    "class Node:\n",
    "\n",
    "  \n",
    "    def __init__(self, data):\n",
    "        self.data = data\n",
    "        self.next = None\n",
    "\n",
    "\n",
    "class LinkedList:\n",
    "\n",
    "   \n",
    "    def __init__(self):\n",
    "        self.head = None\n",
    "\n",
    "    \n",
    "    def reverse(self):\n",
    "        prev = None\n",
    "        current = self.head\n",
    "        while(current is not None):\n",
    "            next = current.next\n",
    "            current.next = prev\n",
    "            prev = current\n",
    "            current = next\n",
    "        self.head = prev\n",
    "\n",
    " \n",
    "    def push(self, new_data):\n",
    "        new_node = Node(new_data)\n",
    "        new_node.next = self.head\n",
    "        self.head = new_node\n",
    "\n",
    "\n",
    "    def printList(self):\n",
    "        temp = self.head\n",
    "        while(temp):\n",
    "            print(temp.data, end=\" \")\n",
    "            temp = temp.next\n",
    "\n",
    "\n",
    "\n",
    "llist = LinkedList()\n",
    "llist.push(1)\n",
    "llist.push(2)\n",
    "llist.push(3)\n",
    "llist.push(4)\n",
    "\n",
    "print (\"Given linked list\")\n",
    "llist.printList()\n",
    "llist.reverse()\n",
    "print (\"\\nReversed linked list\")\n",
    "llist.printList()\n",
    "\n",
    "\n"
   ]
  },
  {
   "cell_type": "code",
   "execution_count": null,
   "id": "526cb0ca-622b-4c12-8a2c-b1707e321f03",
   "metadata": {},
   "outputs": [],
   "source": []
  }
 ],
 "metadata": {
  "kernelspec": {
   "display_name": "Python 3 (ipykernel)",
   "language": "python",
   "name": "python3"
  },
  "language_info": {
   "codemirror_mode": {
    "name": "ipython",
    "version": 3
   },
   "file_extension": ".py",
   "mimetype": "text/x-python",
   "name": "python",
   "nbconvert_exporter": "python",
   "pygments_lexer": "ipython3",
   "version": "3.12.1"
  }
 },
 "nbformat": 4,
 "nbformat_minor": 5
}
