{
 "cells": [
  {
   "cell_type": "code",
   "execution_count": 6,
   "id": "7dbd39a3-ceee-4d60-9b58-e6f4270408cb",
   "metadata": {},
   "outputs": [],
   "source": [
    "import numpy as np\n",
    "import pandas as pd\n",
    "import tensorflow as tf\n",
    "from tensorflow.keras.preprocessing.text import Tokenizer\n",
    "from tensorflow.keras.preprocessing.sequence import pad_sequences\n",
    "from sklearn.model_selection import train_test_split\n",
    "from sklearn.preprocessing import LabelEncoder"
   ]
  },
  {
   "cell_type": "code",
   "execution_count": 7,
   "id": "7c614c3f-ec47-4b24-82d1-c821fd66253e",
   "metadata": {},
   "outputs": [
    {
     "name": "stdout",
     "output_type": "stream",
     "text": [
      "First few rows of the dataset:\n",
      "<class 'pandas.core.frame.DataFrame'>\n",
      "RangeIndex: 1385 entries, 0 to 1384\n",
      "Data columns (total 15 columns):\n",
      " #   Column            Non-Null Count  Dtype \n",
      "---  ------            --------------  ----- \n",
      " 0   articleID         1385 non-null   object\n",
      " 1   byline            1385 non-null   object\n",
      " 2   documentType      1385 non-null   object\n",
      " 3   headline          1385 non-null   object\n",
      " 4   keywords          1385 non-null   object\n",
      " 5   multimedia        1385 non-null   int64 \n",
      " 6   newDesk           1385 non-null   object\n",
      " 7   printPage         1385 non-null   int64 \n",
      " 8   pubDate           1385 non-null   object\n",
      " 9   sectionName       1385 non-null   object\n",
      " 10  snippet           1385 non-null   object\n",
      " 11  source            1385 non-null   object\n",
      " 12  typeOfMaterial    1385 non-null   object\n",
      " 13  webURL            1385 non-null   object\n",
      " 14  articleWordCount  1385 non-null   int64 \n",
      "dtypes: int64(3), object(12)\n",
      "memory usage: 162.4+ KB\n",
      "None\n"
     ]
    }
   ],
   "source": [
    "data = pd.read_csv('ArticlesMarch2018.csv')\n",
    "\n",
    "\n",
    "# Info about dataset\n",
    "print(\"First few rows of the dataset:\")\n",
    "print(data.info())\n",
    "\n"
   ]
  },
  {
   "cell_type": "code",
   "execution_count": 8,
   "id": "5dc9329f-6aad-4262-990d-47b79cb6d91b",
   "metadata": {},
   "outputs": [
    {
     "name": "stderr",
     "output_type": "stream",
     "text": [
      "C:\\Users\\osama\\AppData\\Local\\Programs\\Python\\Python311\\Lib\\site-packages\\keras\\src\\layers\\core\\embedding.py:90: UserWarning: Argument `input_length` is deprecated. Just remove it.\n",
      "  warnings.warn(\n"
     ]
    },
    {
     "name": "stdout",
     "output_type": "stream",
     "text": [
      "Epoch 1/5\n",
      "\u001b[1m35/35\u001b[0m \u001b[32m━━━━━━━━━━━━━━━━━━━━\u001b[0m\u001b[37m\u001b[0m \u001b[1m8s\u001b[0m 65ms/step - accuracy: 0.3311 - loss: 3.2332 - val_accuracy: 0.6968 - val_loss: 1.8935\n",
      "Epoch 2/5\n",
      "\u001b[1m35/35\u001b[0m \u001b[32m━━━━━━━━━━━━━━━━━━━━\u001b[0m\u001b[37m\u001b[0m \u001b[1m2s\u001b[0m 50ms/step - accuracy: 0.6657 - loss: 1.8675 - val_accuracy: 0.6823 - val_loss: 2.4469\n",
      "Epoch 3/5\n",
      "\u001b[1m35/35\u001b[0m \u001b[32m━━━━━━━━━━━━━━━━━━━━\u001b[0m\u001b[37m\u001b[0m \u001b[1m2s\u001b[0m 56ms/step - accuracy: 0.6763 - loss: 1.6424 - val_accuracy: 0.6968 - val_loss: 1.5157\n",
      "Epoch 4/5\n",
      "\u001b[1m35/35\u001b[0m \u001b[32m━━━━━━━━━━━━━━━━━━━━\u001b[0m\u001b[37m\u001b[0m \u001b[1m3s\u001b[0m 66ms/step - accuracy: 0.6693 - loss: 1.3510 - val_accuracy: 0.6968 - val_loss: 1.4663\n",
      "Epoch 5/5\n",
      "\u001b[1m35/35\u001b[0m \u001b[32m━━━━━━━━━━━━━━━━━━━━\u001b[0m\u001b[37m\u001b[0m \u001b[1m3s\u001b[0m 62ms/step - accuracy: 0.7031 - loss: 1.1637 - val_accuracy: 0.6895 - val_loss: 1.4692\n",
      "\u001b[1m9/9\u001b[0m \u001b[32m━━━━━━━━━━━━━━━━━━━━\u001b[0m\u001b[37m\u001b[0m \u001b[1m0s\u001b[0m 20ms/step - accuracy: 0.6979 - loss: 1.4596\n",
      "Test Accuracy: 0.69\n"
     ]
    }
   ],
   "source": [
    "\n",
    "\n",
    "\n",
    "\n",
    "# Select the relevant columns: headline and Encode the labels (sectionName) to numerical values and  Tokenize and pad the sequences for headlines\n",
    "texts = data['headline'].astype(str).values\n",
    "labels = data['sectionName'].astype(str).values\n",
    "\n",
    "\n",
    "label_encoder = LabelEncoder()\n",
    "labels = label_encoder.fit_transform(labels)\n",
    "tokenizer = Tokenizer(num_words=5000, oov_token=\"<OOV>\")\n",
    "tokenizer.fit_on_texts(texts)\n",
    "sequences = tokenizer.texts_to_sequences(texts)\n",
    "padded_sequences = pad_sequences(sequences, maxlen=100)\n",
    "\n",
    "\n",
    "X_train, X_test, y_train, y_test = train_test_split(padded_sequences, labels, test_size=0.2, random_state=42)\n",
    "\n",
    "\n",
    "model = tf.keras.Sequential([\n",
    "    tf.keras.layers.Embedding(input_dim=5000, output_dim=64, input_length=100),\n",
    "    tf.keras.layers.SimpleRNN(64),\n",
    "    tf.keras.layers.Dense(32, activation='relu'),\n",
    "    tf.keras.layers.Dense(len(label_encoder.classes_), activation='softmax')\n",
    "])\n",
    "model.compile(optimizer='adam', loss='sparse_categorical_crossentropy', metrics=['accuracy'])\n",
    "\n",
    "\n",
    "history = model.fit(X_train, y_train, epochs=5, validation_data=(X_test, y_test))\n",
    "\n",
    "loss, accuracy = model.evaluate(X_test, y_test)\n",
    "print(f\"Test Accuracy: {accuracy:.2f}\")\n"
   ]
  },
  {
   "cell_type": "code",
   "execution_count": 9,
   "id": "e02aa9c5-4fc8-4089-a3b4-5cb8ec55a468",
   "metadata": {},
   "outputs": [
    {
     "name": "stdout",
     "output_type": "stream",
     "text": [
      "Epoch 1/5\n",
      "\u001b[1m35/35\u001b[0m \u001b[32m━━━━━━━━━━━━━━━━━━━━\u001b[0m\u001b[37m\u001b[0m \u001b[1m34s\u001b[0m 277ms/step - accuracy: 0.4450 - loss: 2.9968 - val_accuracy: 0.6968 - val_loss: 1.7596\n",
      "Epoch 2/5\n",
      "\u001b[1m35/35\u001b[0m \u001b[32m━━━━━━━━━━━━━━━━━━━━\u001b[0m\u001b[37m\u001b[0m \u001b[1m6s\u001b[0m 167ms/step - accuracy: 0.6631 - loss: 1.8139 - val_accuracy: 0.6968 - val_loss: 1.5456\n",
      "Epoch 3/5\n",
      "\u001b[1m35/35\u001b[0m \u001b[32m━━━━━━━━━━━━━━━━━━━━\u001b[0m\u001b[37m\u001b[0m \u001b[1m12s\u001b[0m 207ms/step - accuracy: 0.6655 - loss: 1.6057 - val_accuracy: 0.6968 - val_loss: 1.5105\n",
      "Epoch 4/5\n",
      "\u001b[1m35/35\u001b[0m \u001b[32m━━━━━━━━━━━━━━━━━━━━\u001b[0m\u001b[37m\u001b[0m \u001b[1m8s\u001b[0m 128ms/step - accuracy: 0.6887 - loss: 1.4546 - val_accuracy: 0.6968 - val_loss: 1.4666\n",
      "Epoch 5/5\n",
      "\u001b[1m35/35\u001b[0m \u001b[32m━━━━━━━━━━━━━━━━━━━━\u001b[0m\u001b[37m\u001b[0m \u001b[1m3s\u001b[0m 91ms/step - accuracy: 0.6948 - loss: 1.2740 - val_accuracy: 0.6679 - val_loss: 1.5412\n",
      "\u001b[1m9/9\u001b[0m \u001b[32m━━━━━━━━━━━━━━━━━━━━\u001b[0m\u001b[37m\u001b[0m \u001b[1m0s\u001b[0m 31ms/step - accuracy: 0.6787 - loss: 1.4694\n",
      "Stacked RNN Test Accuracy: 0.67\n"
     ]
    }
   ],
   "source": [
    "# Build a stacked RNN model\n",
    "stacked_rnn_model = tf.keras.Sequential([\n",
    "    tf.keras.layers.Embedding(input_dim=5000, output_dim=64, input_length=100),\n",
    "    tf.keras.layers.SimpleRNN(64, return_sequences=True),\n",
    "    tf.keras.layers.SimpleRNN(64),\n",
    "    tf.keras.layers.Dense(32, activation='relu'),\n",
    "    tf.keras.layers.Dense(len(label_encoder.classes_), activation='softmax')\n",
    "])\n",
    "\n",
    "# Compile the stacked RNN model\n",
    "stacked_rnn_model.compile(optimizer='adam', loss='sparse_categorical_crossentropy', metrics=['accuracy'])\n",
    "\n",
    "# Train the model\n",
    "stacked_rnn_history = stacked_rnn_model.fit(X_train, y_train, epochs=5, validation_data=(X_test, y_test))\n",
    "\n",
    "# Evaluate the model\n",
    "stacked_rnn_loss, stacked_rnn_accuracy = stacked_rnn_model.evaluate(X_test, y_test)\n",
    "print(f\"Stacked RNN Test Accuracy: {stacked_rnn_accuracy:.2f}\")\n"
   ]
  },
  {
   "cell_type": "code",
   "execution_count": 10,
   "id": "1a9d9670-5559-45b3-9743-0ce0913b4d1d",
   "metadata": {},
   "outputs": [
    {
     "name": "stdout",
     "output_type": "stream",
     "text": [
      "Epoch 1/5\n",
      "\u001b[1m35/35\u001b[0m \u001b[32m━━━━━━━━━━━━━━━━━━━━\u001b[0m\u001b[37m\u001b[0m \u001b[1m19s\u001b[0m 129ms/step - accuracy: 0.5882 - loss: 2.4914 - val_accuracy: 0.6968 - val_loss: 1.5372\n",
      "Epoch 2/5\n",
      "\u001b[1m35/35\u001b[0m \u001b[32m━━━━━━━━━━━━━━━━━━━━\u001b[0m\u001b[37m\u001b[0m \u001b[1m4s\u001b[0m 104ms/step - accuracy: 0.6727 - loss: 1.5492 - val_accuracy: 0.6968 - val_loss: 1.4996\n",
      "Epoch 3/5\n",
      "\u001b[1m35/35\u001b[0m \u001b[32m━━━━━━━━━━━━━━━━━━━━\u001b[0m\u001b[37m\u001b[0m \u001b[1m3s\u001b[0m 77ms/step - accuracy: 0.6771 - loss: 1.4061 - val_accuracy: 0.6968 - val_loss: 1.4754\n",
      "Epoch 4/5\n",
      "\u001b[1m35/35\u001b[0m \u001b[32m━━━━━━━━━━━━━━━━━━━━\u001b[0m\u001b[37m\u001b[0m \u001b[1m3s\u001b[0m 71ms/step - accuracy: 0.6918 - loss: 1.2137 - val_accuracy: 0.6787 - val_loss: 1.4877\n",
      "Epoch 5/5\n",
      "\u001b[1m35/35\u001b[0m \u001b[32m━━━━━━━━━━━━━━━━━━━━\u001b[0m\u001b[37m\u001b[0m \u001b[1m3s\u001b[0m 90ms/step - accuracy: 0.7639 - loss: 0.9574 - val_accuracy: 0.6534 - val_loss: 1.5512\n",
      "\u001b[1m9/9\u001b[0m \u001b[32m━━━━━━━━━━━━━━━━━━━━\u001b[0m\u001b[37m\u001b[0m \u001b[1m0s\u001b[0m 22ms/step - accuracy: 0.6693 - loss: 1.5175\n",
      "Bi-Directional RNN Test Accuracy: 0.65\n"
     ]
    }
   ],
   "source": [
    "# Build a bi-directional RNN model\n",
    "bidirectional_rnn_model = tf.keras.Sequential([\n",
    "    tf.keras.layers.Embedding(input_dim=5000, output_dim=64, input_length=100),\n",
    "    tf.keras.layers.Bidirectional(tf.keras.layers.SimpleRNN(64)),\n",
    "    tf.keras.layers.Dense(32, activation='relu'),\n",
    "    tf.keras.layers.Dense(len(label_encoder.classes_), activation='softmax')\n",
    "])\n",
    "\n",
    "# Compile the bi-directional RNN model\n",
    "bidirectional_rnn_model.compile(optimizer='adam', loss='sparse_categorical_crossentropy', metrics=['accuracy'])\n",
    "\n",
    "# Train the model\n",
    "bidirectional_rnn_history = bidirectional_rnn_model.fit(X_train, y_train, epochs=5, validation_data=(X_test, y_test))\n",
    "\n",
    "# Evaluate the model\n",
    "bidirectional_rnn_loss, bidirectional_rnn_accuracy = bidirectional_rnn_model.evaluate(X_test, y_test)\n",
    "print(f\"Bi-Directional RNN Test Accuracy: {bidirectional_rnn_accuracy:.2f}\")\n"
   ]
  },
  {
   "cell_type": "code",
   "execution_count": null,
   "id": "ac90f37b-9b4c-4af0-b936-4e4daf85f47c",
   "metadata": {},
   "outputs": [],
   "source": [
    "# New headlines for prediction\n",
    "new_headlines = [\n",
    "    \"Trump Proclaims Tariffs On Steel and Aluminum, And Stocks Sag in Reply\",\n",
    "    \"U.S. military prepares for North Korean threat\",\n",
    "    \"China's government extends term limits for president\",\n",
    "    \"Getting a Taste of a Difficult Year\"\n",
    "]\n",
    "\n",
    "# Tokenize and pad the new headlines\n",
    "new_sequences = tokenizer.texts_to_sequences(new_headlines)\n",
    "new_padded_sequences = pad_sequences(new_sequences, maxlen=100)\n",
    "\n",
    "# Make predictions with the basic RNN model\n",
    "predictions_basic_rnn = model.predict(new_padded_sequences)\n",
    "predicted_classes_basic_rnn = np.argmax(predictions_basic_rnn, axis=1)\n",
    "\n",
    "# Decode the predicted classes to section names\n",
    "predicted_section_names_basic_rnn = label_encoder.inverse_transform(predicted_classes_basic_rnn)\n",
    "\n",
    "# Print predictions\n",
    "for i, headline in enumerate(new_headlines):\n",
    "    print(f\"Headline: '{headline}'\")\n",
    "    print(f\"Predicted Section (Basic RNN): {predicted_section_names_basic_rnn[i]}\")\n",
    "    print(\"----\")\n",
    "\n",
    "\n",
    "\n",
    "\n",
    "\n"
   ]
  },
  {
   "cell_type": "code",
   "execution_count": null,
   "id": "f6a7cf7c-bddd-4977-80b7-b88db24cc89b",
   "metadata": {},
   "outputs": [],
   "source": []
  }
 ],
 "metadata": {
  "kernelspec": {
   "display_name": "Python 3 (ipykernel)",
   "language": "python",
   "name": "python3"
  },
  "language_info": {
   "codemirror_mode": {
    "name": "ipython",
    "version": 3
   },
   "file_extension": ".py",
   "mimetype": "text/x-python",
   "name": "python",
   "nbconvert_exporter": "python",
   "pygments_lexer": "ipython3",
   "version": "3.11.9"
  }
 },
 "nbformat": 4,
 "nbformat_minor": 5
}
