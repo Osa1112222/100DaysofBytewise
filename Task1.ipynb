{
 "cells": [
  {
   "cell_type": "code",
   "execution_count": 8,
   "id": "c8cf243c-876d-4f5d-b1ac-1a5ea807b8a8",
   "metadata": {},
   "outputs": [
    {
     "name": "stdout",
     "output_type": "stream",
     "text": [
      "enter first number :\n"
     ]
    },
    {
     "name": "stdin",
     "output_type": "stream",
     "text": [
      " 5\n"
     ]
    },
    {
     "name": "stdout",
     "output_type": "stream",
     "text": [
      "enter second number :\n"
     ]
    },
    {
     "name": "stdin",
     "output_type": "stream",
     "text": [
      " 3\n"
     ]
    },
    {
     "name": "stdout",
     "output_type": "stream",
     "text": [
      "Sum is : 8\n"
     ]
    }
   ],
   "source": [
    "#Q1\n",
    "import math as m\n",
    "print('enter first number :') \n",
    "x = input()\n",
    "\n",
    "print(\"enter second number :\")\n",
    "\n",
    "y = input()\n",
    "\n",
    "sum = int(x) + int(y)\n",
    "\n",
    "print('Sum is :' ,sum)"
   ]
  },
  {
   "cell_type": "code",
   "execution_count": 9,
   "id": "95119992-bc2f-4e86-a78a-aa95bd4db71c",
   "metadata": {},
   "outputs": [
    {
     "name": "stdout",
     "output_type": "stream",
     "text": [
      "Enter the radius of the circle:\n"
     ]
    },
    {
     "name": "stdin",
     "output_type": "stream",
     "text": [
      " 5\n"
     ]
    },
    {
     "name": "stdout",
     "output_type": "stream",
     "text": [
      "Area is : 78.53981633974483\n"
     ]
    }
   ],
   "source": [
    "#Q2\n",
    "print('Enter the radius of the circle:')\n",
    "x= input()\n",
    "\n",
    "area = m.pi*int(x)**2\n",
    "\n",
    "print('Area is :' ,area)\n",
    "\n"
   ]
  },
  {
   "cell_type": "code",
   "execution_count": 15,
   "id": "b5835619-eb7d-4e5a-9e59-806b02c3208e",
   "metadata": {},
   "outputs": [
    {
     "name": "stdout",
     "output_type": "stream",
     "text": [
      "enter an number :\n"
     ]
    },
    {
     "name": "stdin",
     "output_type": "stream",
     "text": [
      " 5\n"
     ]
    },
    {
     "name": "stdout",
     "output_type": "stream",
     "text": [
      "5  is odd\n"
     ]
    }
   ],
   "source": [
    "#Q3\n",
    "\n",
    "print('enter an number :')\n",
    "x = input()\n",
    "\n",
    "if(int(x)%2 == 0):\n",
    "    print(x ,' is even')\n",
    "else:\n",
    "    print(x,' is odd')\n"
   ]
  },
  {
   "cell_type": "code",
   "execution_count": 21,
   "id": "123441ca-3402-4ae0-be91-5ef47948be57",
   "metadata": {},
   "outputs": [
    {
     "name": "stdout",
     "output_type": "stream",
     "text": [
      "enter first number :\n"
     ]
    },
    {
     "name": "stdin",
     "output_type": "stream",
     "text": [
      " 10\n"
     ]
    },
    {
     "name": "stdout",
     "output_type": "stream",
     "text": [
      "enter second number :\n"
     ]
    },
    {
     "name": "stdin",
     "output_type": "stream",
     "text": [
      " 3\n"
     ]
    },
    {
     "name": "stdout",
     "output_type": "stream",
     "text": [
      "enter operation +,-,*,/ :\n"
     ]
    },
    {
     "name": "stdin",
     "output_type": "stream",
     "text": [
      " /\n"
     ]
    },
    {
     "name": "stdout",
     "output_type": "stream",
     "text": [
      "divison is : 3.3333333333333335\n"
     ]
    }
   ],
   "source": [
    "#Q4\n",
    "print('enter first number :') \n",
    "x = int(input())\n",
    "\n",
    "print(\"enter second number :\")\n",
    "\n",
    "y = int(input())\n",
    "\n",
    "print(\"enter operation +,-,*,/ :\")\n",
    "\n",
    "z = input()\n",
    "\n",
    "if(z == '+'):\n",
    "    print('sum is :' ,x + y)\n",
    "elif(z== '-'):\n",
    "     print('subtraction is :' ,x - y)\n",
    "elif(z == '*'):\n",
    "     print('multiplication is :' ,x * y)\n",
    "elif(z == '/'):\n",
    "     print('divison is :' ,x / y)\n"
   ]
  },
  {
   "cell_type": "code",
   "execution_count": 31,
   "id": "fcf4b967-a583-4c0e-ba52-283ac229f584",
   "metadata": {},
   "outputs": [
    {
     "name": "stdout",
     "output_type": "stream",
     "text": [
      "enter first number :\n"
     ]
    },
    {
     "name": "stdin",
     "output_type": "stream",
     "text": [
      " 8\n"
     ]
    },
    {
     "name": "stdout",
     "output_type": "stream",
     "text": [
      "enter second number :\n"
     ]
    },
    {
     "name": "stdin",
     "output_type": "stream",
     "text": [
      " 4\n"
     ]
    },
    {
     "name": "stdout",
     "output_type": "stream",
     "text": [
      "enter third number \n"
     ]
    },
    {
     "name": "stdin",
     "output_type": "stream",
     "text": [
      " 2\n"
     ]
    },
    {
     "name": "stdout",
     "output_type": "stream",
     "text": [
      "8  is greater\n"
     ]
    }
   ],
   "source": [
    "#Q5\n",
    "print('enter first number :') \n",
    "x = int(input())\n",
    "\n",
    "print(\"enter second number :\")\n",
    "\n",
    "y = int(input())\n",
    "\n",
    "print(\"enter third number \")\n",
    "\n",
    "z = int(input())\n",
    "\n",
    "if((x > y) and (x>z)):\n",
    "    print( x,' is greater')\n",
    "elif(y > x and y > z):\n",
    "    print(y, 'y is greater ')\n",
    "elif(z>x and z> y):\n",
    "    print(z,' is greater ')"
   ]
  },
  {
   "cell_type": "code",
   "execution_count": 32,
   "id": "9856f604-cb7c-48fa-b27b-384ef4e3ea18",
   "metadata": {},
   "outputs": [
    {
     "name": "stdout",
     "output_type": "stream",
     "text": [
      "enter an string :\n"
     ]
    },
    {
     "name": "stdin",
     "output_type": "stream",
     "text": [
      " hello\n"
     ]
    },
    {
     "name": "stdout",
     "output_type": "stream",
     "text": [
      "olleh\n"
     ]
    }
   ],
   "source": [
    "#Q6\n",
    "print('enter an string :') \n",
    "x = input()\n",
    "\n",
    "y = x[::-1]\n",
    "\n",
    "print(y)\n",
    "\n"
   ]
  },
  {
   "cell_type": "code",
   "execution_count": 37,
   "id": "a04d1031-42a8-4757-8aec-7b7ed35fa164",
   "metadata": {},
   "outputs": [
    {
     "name": "stdout",
     "output_type": "stream",
     "text": [
      "enter an string :\n"
     ]
    },
    {
     "name": "stdin",
     "output_type": "stream",
     "text": [
      " osama\n"
     ]
    },
    {
     "name": "stdout",
     "output_type": "stream",
     "text": [
      "vowels :  3\n"
     ]
    }
   ],
   "source": [
    "#Q7\n",
    "\n",
    "print('enter an string :') \n",
    "x = input()\n",
    "count = 0\n",
    "for i in x:\n",
    "    if(i == 'a' or i== 'e' or i == 'i' or i == 'o' or i == 'u'):\n",
    "        count = count +1\n",
    "\n",
    "print('vowels : ' , count)\n",
    "    "
   ]
  },
  {
   "cell_type": "code",
   "execution_count": 42,
   "id": "69d2a5d2-43be-4327-9200-d06a4d262904",
   "metadata": {},
   "outputs": [
    {
     "name": "stdout",
     "output_type": "stream",
     "text": [
      "enter an number :\n"
     ]
    },
    {
     "name": "stdin",
     "output_type": "stream",
     "text": [
      " 8\n"
     ]
    },
    {
     "name": "stdout",
     "output_type": "stream",
     "text": [
      "0\n",
      "1\n",
      "1\n",
      "2\n",
      "3\n",
      "5\n",
      "8\n",
      "13\n"
     ]
    }
   ],
   "source": [
    "#Q8\n",
    "\n",
    "print('enter an number :') \n",
    "x =int( input())\n",
    "\n",
    "a = 0\n",
    "b= 1\n",
    "\n",
    "count = 0\n",
    "\n",
    "while count < x:\n",
    "    print(a)\n",
    "    n = a + b\n",
    "    a = b\n",
    "    b = n\n",
    "    count += 1\n"
   ]
  },
  {
   "cell_type": "code",
   "execution_count": 63,
   "id": "50d8c75b-6fea-4482-8a00-29a7e4651409",
   "metadata": {},
   "outputs": [
    {
     "name": "stdout",
     "output_type": "stream",
     "text": [
      "enter an string :\n"
     ]
    },
    {
     "name": "stdin",
     "output_type": "stream",
     "text": [
      " radar\n"
     ]
    },
    {
     "name": "stdout",
     "output_type": "stream",
     "text": [
      "Yes\n"
     ]
    }
   ],
   "source": [
    "#Q9\n",
    "\n",
    "print('enter an string :') \n",
    "x = input()\n",
    "\n",
    "\n",
    "count = 0\n",
    "for i in range(0, int(len(x)/2)):\n",
    "    if x[i] != x[len(x)-i-1]:\n",
    "        count = 1\n",
    "        break\n",
    "\n",
    "\n",
    "\n",
    "if (\tcount == 0):\n",
    "\tprint(\"Yes\")\n",
    "else:\n",
    "\tprint(\"No\")\n",
    "\n",
    "    \n",
    "\n"
   ]
  },
  {
   "cell_type": "code",
   "execution_count": null,
   "id": "05caf385-ee6d-4012-8ddc-dd8b46288895",
   "metadata": {},
   "outputs": [],
   "source": []
  },
  {
   "cell_type": "code",
   "execution_count": null,
   "id": "331c9c00-8d48-4acc-a598-5500d5069911",
   "metadata": {},
   "outputs": [],
   "source": []
  },
  {
   "cell_type": "code",
   "execution_count": null,
   "id": "48d5c5d3-0271-47a8-8a17-d7f107be797c",
   "metadata": {},
   "outputs": [],
   "source": []
  }
 ],
 "metadata": {
  "kernelspec": {
   "display_name": "Python 3 (ipykernel)",
   "language": "python",
   "name": "python3"
  },
  "language_info": {
   "codemirror_mode": {
    "name": "ipython",
    "version": 3
   },
   "file_extension": ".py",
   "mimetype": "text/x-python",
   "name": "python",
   "nbconvert_exporter": "python",
   "pygments_lexer": "ipython3",
   "version": "3.12.1"
  }
 },
 "nbformat": 4,
 "nbformat_minor": 5
}
