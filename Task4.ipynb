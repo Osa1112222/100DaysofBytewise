{
 "cells": [
  {
   "cell_type": "code",
   "execution_count": 2,
   "id": "92bf8ce3-d2c0-4a95-89e6-963b4d6be4f9",
   "metadata": {},
   "outputs": [
    {
     "name": "stdout",
     "output_type": "stream",
     "text": [
      "Enter elements in array to quick sort:\n"
     ]
    },
    {
     "name": "stdin",
     "output_type": "stream",
     "text": [
      " 1 4 2 6 3\n"
     ]
    },
    {
     "name": "stdout",
     "output_type": "stream",
     "text": [
      "Original array: [1, 4, 2, 6, 3]\n",
      "Sorted array: [1, 2, 3, 4, 6]\n"
     ]
    }
   ],
   "source": [
    "#Q1\n",
    "def partition(arr, low, high):\n",
    "    p = arr[high]\n",
    "    i = low - 1\n",
    "    for j in range(low, high):\n",
    "        if arr[j] <= p:\n",
    "            i = i + 1\n",
    "            arr[i], arr[j] = arr[j], arr[i]\n",
    "    arr[i + 1], arr[high] = arr[high], arr[i + 1]\n",
    "    return i + 1\n",
    "\n",
    "def qsort(arr, low, high):\n",
    "    if low < high:\n",
    "        pi = partition(arr, low, high)\n",
    "        qsort(arr, low, pi - 1)\n",
    "        qsort(arr, pi + 1, high)\n",
    "\n",
    "print('Enter elements in array to quick sort:')\n",
    "arr = [int(x) for x in input().split()]\n",
    "\n",
    "print('Original array:', arr)\n",
    "\n",
    "n = len(arr)\n",
    "qsort(arr, 0, n - 1)\n",
    "\n",
    "print('Sorted array:', arr)\n"
   ]
  },
  {
   "cell_type": "code",
   "execution_count": 3,
   "id": "88c248bf-3837-42a7-a114-29c26493502c",
   "metadata": {},
   "outputs": [
    {
     "name": "stdout",
     "output_type": "stream",
     "text": [
      "220\n"
     ]
    }
   ],
   "source": [
    "#Q2\n",
    "\n",
    "\n",
    "def knapSack(W, wt, val, n):\n",
    "    K = [[0 for x in range(W + 1)] for x in range(n + 1)]\n",
    "\n",
    " \n",
    "    for i in range(n + 1):\n",
    "        for w in range(W + 1):\n",
    "            if i == 0 or w == 0:\n",
    "                K[i][w] = 0\n",
    "            elif wt[i-1] <= w:\n",
    "                K[i][w] = max(val[i-1]\n",
    "                              + K[i-1][w-wt[i-1]],\n",
    "                              K[i-1][w])\n",
    "            else:\n",
    "                K[i][w] = K[i-1][w]\n",
    "\n",
    "    return K[n][W]\n",
    "\n",
    "\n",
    "\n",
    "profit = [60, 100, 120]\n",
    "weight = [10, 20, 30]\n",
    "W = 50\n",
    "n = len(profit)\n",
    "print(knapSack(W, weight, profit, n))\n",
    "\n",
    "\n"
   ]
  },
  {
   "cell_type": "code",
   "execution_count": 4,
   "id": "6cd14dd9-677c-49b2-adfa-39bb63e425e4",
   "metadata": {},
   "outputs": [
    {
     "name": "stdout",
     "output_type": "stream",
     "text": [
      "BFS starting from node 2: [2, 0, 3, 1]\n"
     ]
    }
   ],
   "source": [
    "#Q3(a)\n",
    "from collections import deque\n",
    "\n",
    "def bfs(graph, start):\n",
    "    visited = []\n",
    "    queue = deque([start])\n",
    "    \n",
    "    while queue:\n",
    "        vertex = queue.popleft()\n",
    "        \n",
    "        if vertex not in visited:\n",
    "            visited.append(vertex)\n",
    "            queue.extend([node for node in graph[vertex] if node not in visited])\n",
    "    \n",
    "    return visited\n",
    "\n",
    "graph = {0: [1, 2], 1: [2], 2: [0, 3], 3: [3]}\n",
    "start_node = 2\n",
    "print(\"BFS starting from node {}: {}\".format(start_node, bfs(graph, start_node)))\n"
   ]
  },
  {
   "cell_type": "code",
   "execution_count": 5,
   "id": "3d4cd93f-b4fc-4504-9271-d04ddb37bfa7",
   "metadata": {},
   "outputs": [
    {
     "name": "stdout",
     "output_type": "stream",
     "text": [
      "DFS starting from node 2: [2, 0, 1, 3]\n"
     ]
    }
   ],
   "source": [
    "#Q3(b)\n",
    "def dfs(graph, start, visited=None):\n",
    "    if visited is None:\n",
    "        visited = []\n",
    "    \n",
    "    visited.append(start)\n",
    "    \n",
    "    for next_node in graph[start]:\n",
    "        if next_node not in visited:\n",
    "            dfs(graph, next_node, visited)\n",
    "    \n",
    "    return visited\n",
    "\n",
    "\n",
    "graph = {0: [1, 2], 1: [2], 2: [0, 3], 3: [3]}\n",
    "start_node = 2\n",
    "print(\"DFS starting from node {}: {}\".format(start_node, dfs(graph, start_node)))\n"
   ]
  },
  {
   "cell_type": "code",
   "execution_count": 6,
   "id": "2eb33f96-347f-440d-99b8-09665224fe1f",
   "metadata": {},
   "outputs": [
    {
     "name": "stdout",
     "output_type": "stream",
     "text": [
      "Shortest paths from node A: {'A': 0, 'B': 1, 'C': 3, 'D': 4}\n"
     ]
    }
   ],
   "source": [
    "#Q4\n",
    "\n",
    "import heapq\n",
    "\n",
    "def dijkstra(graph, start):\n",
    "    pq = [(0, start)]  # Priority queue with (cost, node)\n",
    "    shortest_paths = {node: float('inf') for node in graph}\n",
    "    shortest_paths[start] = 0\n",
    "    \n",
    "    while pq:\n",
    "        curr_cost, curr_node = heapq.heappop(pq)\n",
    "        \n",
    "        if curr_cost > shortest_paths[curr_node]:\n",
    "            continue\n",
    "        \n",
    "        for neighbor, weight in graph[curr_node].items():\n",
    "            new_cost = curr_cost + weight\n",
    "            \n",
    "            if new_cost < shortest_paths[neighbor]:\n",
    "                shortest_paths[neighbor] = new_cost\n",
    "                heapq.heappush(pq, (new_cost, neighbor))\n",
    "    \n",
    "    return shortest_paths\n",
    "\n",
    "\n",
    "graph = {\n",
    "    'A': {'B': 1, 'C': 4},\n",
    "    'B': {'C': 2, 'D': 5},\n",
    "    'C': {'D': 1},\n",
    "    'D': {}\n",
    "}\n",
    "start_node = 'A'\n",
    "print(f\"Shortest paths from node {start_node}: {dijkstra(graph, start_node)}\")\n"
   ]
  },
  {
   "cell_type": "code",
   "execution_count": null,
   "id": "cbbd9e9f-6744-4563-9e9d-30f85180e831",
   "metadata": {},
   "outputs": [],
   "source": []
  }
 ],
 "metadata": {
  "kernelspec": {
   "display_name": "Python 3 (ipykernel)",
   "language": "python",
   "name": "python3"
  },
  "language_info": {
   "codemirror_mode": {
    "name": "ipython",
    "version": 3
   },
   "file_extension": ".py",
   "mimetype": "text/x-python",
   "name": "python",
   "nbconvert_exporter": "python",
   "pygments_lexer": "ipython3",
   "version": "3.12.1"
  }
 },
 "nbformat": 4,
 "nbformat_minor": 5
}
